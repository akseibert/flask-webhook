{
  "cells": [
    {
      "cell_type": "markdown",
      "metadata": {
        "id": "by2o89GI97z5"
      },
      "source": [
        "# Intro Deep Learning\n",
        "\n"
      ]
    },
    {
      "cell_type": "markdown",
      "metadata": {
        "id": "BPhxe5DD-JPC"
      },
      "source": [
        "# Import Data"
      ]
    },
    {
      "cell_type": "code",
      "execution_count": 1,
      "metadata": {
        "id": "FiPlcB9GIpnx"
      },
      "outputs": [],
      "source": [
        "import pandas as pd\n",
        "train = pd.read_csv(\"https://raw.githubusercontent.com/casbdai/notebooks2023/main/Module3/99_CAS_BDAI_CUP/train.csv\")"
      ]
    },
    {
      "cell_type": "code",
      "execution_count": 3,
      "metadata": {
        "id": "9fvxpfgWumsa",
        "outputId": "e13c10e3-aef8-498f-db70-99ef23c3cc2e",
        "colab": {
          "base_uri": "https://localhost:8080/"
        }
      },
      "outputs": [
        {
          "output_type": "stream",
          "name": "stdout",
          "text": [
            "<class 'pandas.core.frame.DataFrame'>\n",
            "RangeIndex: 30857 entries, 0 to 30856\n",
            "Data columns (total 11 columns):\n",
            " #   Column        Non-Null Count  Dtype  \n",
            "---  ------        --------------  -----  \n",
            " 0   model         30857 non-null  object \n",
            " 1   year          30857 non-null  int64  \n",
            " 2   price         30857 non-null  int64  \n",
            " 3   transmission  30857 non-null  object \n",
            " 4   mileage       30857 non-null  int64  \n",
            " 5   fuelType      30857 non-null  object \n",
            " 6   tax           30857 non-null  int64  \n",
            " 7   mpg           30857 non-null  float64\n",
            " 8   engineSize    30857 non-null  float64\n",
            " 9   brand         30857 non-null  object \n",
            " 10  ID            30857 non-null  int64  \n",
            "dtypes: float64(2), int64(5), object(4)\n",
            "memory usage: 2.6+ MB\n"
          ]
        }
      ],
      "source": [
        "train.info()"
      ]
    },
    {
      "cell_type": "markdown",
      "metadata": {
        "id": "ki6wP3_xXt2J"
      },
      "source": [
        "# Build Standard Regression Model"
      ]
    },
    {
      "cell_type": "code",
      "execution_count": 4,
      "metadata": {
        "id": "l_-ZH8xNNKvG",
        "outputId": "117b2331-71aa-46ba-b182-913022cc850a",
        "colab": {
          "base_uri": "https://localhost:8080/"
        }
      },
      "outputs": [
        {
          "output_type": "execute_result",
          "data": {
            "text/plain": [
              "4264.149975042522"
            ]
          },
          "metadata": {},
          "execution_count": 4
        }
      ],
      "source": [
        "# Import Functions\n",
        "from sklearn.linear_model import LinearRegression\n",
        "from sklearn.model_selection import train_test_split\n",
        "from sklearn.metrics import root_mean_squared_error\n",
        "\n",
        "# Instantiate Model\n",
        "model = LinearRegression()\n",
        "\n",
        "# Create Train Data\n",
        "train = pd.get_dummies(train, drop_first=True)\n",
        "train = train.astype(int)\n",
        "X = train.drop(\"price\", axis=1)\n",
        "y = train[\"price\"]\n",
        "X_train, X_test, y_train, y_test = train_test_split(X, y, test_size=0.3, random_state=12)\n",
        "\n",
        "# fit model\n",
        "model.fit(X_train, y_train)\n",
        "\n",
        "#make prediction\n",
        "y_pred = model.predict(X_test)\n",
        "\n",
        "# Evaluate Model Performance\n",
        "root_mean_squared_error(y_test, y_pred)"
      ]
    },
    {
      "cell_type": "markdown",
      "metadata": {
        "id": "zRo5QPR4yqto"
      },
      "source": [
        "# Build Neural Network"
      ]
    },
    {
      "cell_type": "markdown",
      "metadata": {
        "id": "BY-lJ4BWzbFR"
      },
      "source": [
        "## 1) Import Tensorflow / Keras"
      ]
    },
    {
      "cell_type": "code",
      "execution_count": 5,
      "metadata": {
        "id": "GoD282HAlsAq"
      },
      "outputs": [],
      "source": [
        "import tensorflow as tf\n",
        "from tensorflow.keras.models import Sequential #build a model of time sequential, one model after the other\n",
        "from tensorflow.keras.layers import Dense # simple neuron network, where each neuron is connected with the other"
      ]
    },
    {
      "cell_type": "markdown",
      "metadata": {
        "id": "aX3ltCpczkkN"
      },
      "source": [
        "## 2) Build & Compile Network"
      ]
    },
    {
      "cell_type": "code",
      "execution_count": 6,
      "metadata": {
        "id": "N0cXhAHWIM5b",
        "outputId": "076333ce-44e8-4225-c53b-cfaf798af02d",
        "colab": {
          "base_uri": "https://localhost:8080/"
        }
      },
      "outputs": [
        {
          "output_type": "execute_result",
          "data": {
            "text/plain": [
              "(30857, 56)"
            ]
          },
          "metadata": {},
          "execution_count": 6
        }
      ],
      "source": [
        "X.shape"
      ]
    },
    {
      "cell_type": "code",
      "execution_count": 7,
      "metadata": {
        "id": "YIpcQTdClvMZ",
        "outputId": "2679f045-61af-4f06-be48-38c891650ca0",
        "colab": {
          "base_uri": "https://localhost:8080/"
        }
      },
      "outputs": [
        {
          "output_type": "stream",
          "name": "stderr",
          "text": [
            "/usr/local/lib/python3.11/dist-packages/keras/src/layers/core/dense.py:87: UserWarning: Do not pass an `input_shape`/`input_dim` argument to a layer. When using Sequential models, prefer using an `Input(shape)` object as the first layer in the model instead.\n",
            "  super().__init__(activity_regularizer=activity_regularizer, **kwargs)\n"
          ]
        }
      ],
      "source": [
        "model = Sequential()\n",
        "\n",
        "model.add(Dense(56, input_shape=(56,), activation='relu')) # the input layer takes the shape of your input data\n",
        "model.add(Dense(50, activation='relu'))                      # hidden layer with 50 neurons\n",
        "model.add(Dense(50, activation='relu'))                      # hidden layer with 50 neurons\n",
        "model.add(Dense(10, activation='relu'))                      # hidden layer with 10 neurons\n",
        "model.add(Dense(1))                                          # the output layer consists of 1 neuron in regression\n",
        "\n",
        "model.compile(optimizer=\"adam\", loss='mse')"
      ]
    },
    {
      "cell_type": "markdown",
      "metadata": {
        "id": "abh2xCVGzsbN"
      },
      "source": [
        "## 3) Train Network"
      ]
    },
    {
      "cell_type": "code",
      "execution_count": 8,
      "metadata": {
        "id": "j-nr0Ty5mKu1",
        "outputId": "ca730e85-b6a9-42d3-ef4a-5b6b06a5fc4b",
        "colab": {
          "base_uri": "https://localhost:8080/"
        }
      },
      "outputs": [
        {
          "output_type": "stream",
          "name": "stdout",
          "text": [
            "Epoch 1/10\n",
            "\u001b[1m338/338\u001b[0m \u001b[32m━━━━━━━━━━━━━━━━━━━━\u001b[0m\u001b[37m\u001b[0m \u001b[1m3s\u001b[0m 4ms/step - loss: 209038608.0000 - val_loss: 61749968.0000\n",
            "Epoch 2/10\n",
            "\u001b[1m338/338\u001b[0m \u001b[32m━━━━━━━━━━━━━━━━━━━━\u001b[0m\u001b[37m\u001b[0m \u001b[1m2s\u001b[0m 3ms/step - loss: 64612788.0000 - val_loss: 58257460.0000\n",
            "Epoch 3/10\n",
            "\u001b[1m338/338\u001b[0m \u001b[32m━━━━━━━━━━━━━━━━━━━━\u001b[0m\u001b[37m\u001b[0m \u001b[1m2s\u001b[0m 5ms/step - loss: 61961928.0000 - val_loss: 58444744.0000\n",
            "Epoch 4/10\n",
            "\u001b[1m338/338\u001b[0m \u001b[32m━━━━━━━━━━━━━━━━━━━━\u001b[0m\u001b[37m\u001b[0m \u001b[1m2s\u001b[0m 3ms/step - loss: 58880688.0000 - val_loss: 57375204.0000\n",
            "Epoch 5/10\n",
            "\u001b[1m338/338\u001b[0m \u001b[32m━━━━━━━━━━━━━━━━━━━━\u001b[0m\u001b[37m\u001b[0m \u001b[1m1s\u001b[0m 3ms/step - loss: 55316892.0000 - val_loss: 58584452.0000\n",
            "Epoch 6/10\n",
            "\u001b[1m338/338\u001b[0m \u001b[32m━━━━━━━━━━━━━━━━━━━━\u001b[0m\u001b[37m\u001b[0m \u001b[1m2s\u001b[0m 6ms/step - loss: 57318552.0000 - val_loss: 55262396.0000\n",
            "Epoch 7/10\n",
            "\u001b[1m338/338\u001b[0m \u001b[32m━━━━━━━━━━━━━━━━━━━━\u001b[0m\u001b[37m\u001b[0m \u001b[1m1s\u001b[0m 4ms/step - loss: 55689148.0000 - val_loss: 54657276.0000\n",
            "Epoch 8/10\n",
            "\u001b[1m338/338\u001b[0m \u001b[32m━━━━━━━━━━━━━━━━━━━━\u001b[0m\u001b[37m\u001b[0m \u001b[1m1s\u001b[0m 3ms/step - loss: 56267280.0000 - val_loss: 53774788.0000\n",
            "Epoch 9/10\n",
            "\u001b[1m338/338\u001b[0m \u001b[32m━━━━━━━━━━━━━━━━━━━━\u001b[0m\u001b[37m\u001b[0m \u001b[1m1s\u001b[0m 3ms/step - loss: 53995020.0000 - val_loss: 55964176.0000\n",
            "Epoch 10/10\n",
            "\u001b[1m338/338\u001b[0m \u001b[32m━━━━━━━━━━━━━━━━━━━━\u001b[0m\u001b[37m\u001b[0m \u001b[1m1s\u001b[0m 3ms/step - loss: 57074964.0000 - val_loss: 52655500.0000\n"
          ]
        },
        {
          "output_type": "execute_result",
          "data": {
            "text/plain": [
              "<keras.src.callbacks.history.History at 0x7d5c16709b90>"
            ]
          },
          "metadata": {},
          "execution_count": 8
        }
      ],
      "source": [
        "model.fit(X_train, y_train, validation_data=(X_test, y_test), epochs=10, batch_size=64)"
      ]
    },
    {
      "cell_type": "markdown",
      "metadata": {
        "id": "7OzMGN7iz2Lk"
      },
      "source": [
        "\n",
        "\n",
        "*   epochs = number of times the entire data set is passed through the network\n",
        "*   batch_size = number of instances that are passed trough the network at once\n",
        "\n"
      ]
    },
    {
      "cell_type": "markdown",
      "metadata": {
        "id": "kKOrRV5r0Nke"
      },
      "source": [
        "## 4) Visualize Training Process"
      ]
    },
    {
      "cell_type": "code",
      "execution_count": 9,
      "metadata": {
        "id": "XJcfaeYEml54",
        "outputId": "faf79005-c6c8-4720-a5b1-31875bb43875",
        "colab": {
          "base_uri": "https://localhost:8080/",
          "height": 728
        }
      },
      "outputs": [
        {
          "output_type": "execute_result",
          "data": {
            "text/plain": [
              "[<matplotlib.lines.Line2D at 0x7d5c0a48e310>]"
            ]
          },
          "metadata": {},
          "execution_count": 9
        },
        {
          "output_type": "display_data",
          "data": {
            "text/plain": [
              "<Figure size 1500x800 with 1 Axes>"
            ],
            "image/png": "[encoded data removed]"
          },
          "metadata": {}
        }
      ],
      "source": [
        "import matplotlib.pyplot as plt\n",
        "plt.figure(figsize=(15,8))\n",
        "\n",
        "plt.xlabel('epoch')\n",
        "plt.ylabel('mse')\n",
        "\n",
        "plt.plot(model.history.history['loss'][:])\n",
        "plt.plot(model.history.history['val_loss'][:])"
      ]
    },
    {
      "cell_type": "markdown",
      "metadata": {
        "id": "0bAo_wkQ0TY_"
      },
      "source": [
        "## 5) Calculate Error"
      ]
    },
    {
      "cell_type": "code",
      "execution_count": 10,
      "metadata": {
        "id": "xdS_pPVYmvGG",
        "outputId": "9fb9ed35-75dd-4d08-82b3-b597842ed5d4",
        "colab": {
          "base_uri": "https://localhost:8080/"
        }
      },
      "outputs": [
        {
          "output_type": "stream",
          "name": "stdout",
          "text": [
            "\u001b[1m290/290\u001b[0m \u001b[32m━━━━━━━━━━━━━━━━━━━━\u001b[0m\u001b[37m\u001b[0m \u001b[1m0s\u001b[0m 1ms/step\n"
          ]
        },
        {
          "output_type": "execute_result",
          "data": {
            "text/plain": [
              "7256.41064453125"
            ]
          },
          "metadata": {},
          "execution_count": 10
        }
      ],
      "source": [
        "y_pred = model.predict(X_test)\n",
        "root_mean_squared_error(y_test, y_pred)"
      ]
    }
  ],
  "metadata": {
    "colab": {
      "name": "DeepLearning.ipynb",
      "provenance": []
    },
    "kernelspec": {
      "display_name": "Python 3 (ipykernel)",
      "language": "python",
      "name": "python3"
    },
    "language_info": {
      "codemirror_mode": {
        "name": "ipython",
        "version": 3
      },
      "file_extension": ".py",
      "mimetype": "text/x-python",
      "name": "python",
      "nbconvert_exporter": "python",
      "pygments_lexer": "ipython3",
      "version": "3.9.12"
    },
    "vscode": {
      "interpreter": {
        "hash": "9cfc3c7994f631dfc6a65b56363e87144dd9fa5c38ebff28a3247fb8dab8888e"
      }
    }
  },
  "nbformat": 4,
  "nbformat_minor": 0
}